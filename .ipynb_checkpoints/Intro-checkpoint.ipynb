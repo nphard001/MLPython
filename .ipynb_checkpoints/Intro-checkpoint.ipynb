{
 "cells": [
  {
   "cell_type": "markdown",
   "metadata": {},
   "source": [
    "# Intro\n",
    "這部教程的設定受眾是一般商管科系大學生，目標是使用python進行數據分析  \n",
    "希望能提供初學者一個quick overview  \n",
    "\n",
    "\n",
    "<!--\n",
    "這部教程是為了我一群台大經濟系的好友寫的，所以受眾很明確，就是對(財經)數據分析有興趣、沒有資訊背景的人。  \n",
    "以往對於教人寫程式這種事，我一直認為網路上的資源已經很豐富、貼給他們就好，不應該再「重造輪子」  \n",
    "不過當我自己在入門python的時候遇到了一些困難：  \n",
    "1. 網路上「Python入門」的資料實在是太多了，篇幅限制下往往面臨觀念講解和語法細節之間的trade-off\n",
    "2. Python作為一個[General-purpose](https://zh.wikipedia.org/wiki/%E9%80%9A%E7%94%A8%E7%BC%96%E7%A8%8B%E8%AF%AD%E8%A8%80)的程式語言能做事不少。很難找到一個統一的、具教學性質的demo告訴人們它(在科學計算/機器學習方面)能解決什麼問題\n",
    "3. 繁體中文找到的教程多半不會採用特定開發環境，採用哪些套件也並未有統一標準\n",
    "\n",
    "所以我想寫一部教程來解決這些問題，寫作的方向包括：\n",
    "+ Python語法的部分只整理核心觀念、細節的部分再找一些外部連結來補足(解決1)\n",
    "+ 設計一套範例，貫串資料收集、前處理、可視化/資料探索、統計/機器學習建模、分析預測，提供初學者overview(有點複雜的目標，解決2)\n",
    "+ 採取Anaconda集成環境，內建NumPy、SciPy、Pandas、Matplotlib、scikit-learn等重要常用套件\n",
    "\n",
    "我覺得coding的世界相當遼闊，從選程式語言、選IDE、選套件，到怎麼靠google自我學習，完成任務的方法有千百種、非常自由。  \n",
    "希望初學者讀過我的作品，就像是來我的「船」上參觀過的人。  \n",
    "在了解航海是怎麼一回事之後，有能力去造出他們自己喜歡的船，在寬廣的大海中遨遊。  \n",
    "-->\n",
    "\n",
    "# Python是什麼樣的程式語言？ WIP\n",
    "\n",
    "## Python的特性\n",
    "1. 動態語言\n",
    "2. 直譯語言、使用IDLE\n",
    "3. 撰寫容易vs執行速度trade off\n",
    "\n",
    "## Python的優點\n",
    "1. 簡單易讀好上手：動態語言都有著易讀易寫的特性，而Python更是設計了許多這方面的機制\n",
    "2. 功能強：Python語言的核心包含數字、字串、列表、字典、檔案等常見類型和函式，而Python標準庫更提供了系統管理、網路通訊、文字處理、資料庫介面、圖形系統、XML處理等各式各樣的功能\n",
    "3. 開源\n",
    "4. 社群廣大\n",
    "\n",
    "---"
   ]
  },
  {
   "cell_type": "markdown",
   "metadata": {},
   "source": [
    "\n",
    "\n",
    "# 建置開發環境\n",
    "\n",
    "### 安裝Anaconda集成\n",
    "從[Anaconda官方網站](https://www.continuum.io/downloads)下載  \n",
    "選擇你的作業系統Windows、MacOS或Linux   \n",
    "installer我們選擇「Python 2.7 version」   \n",
    "將來有需要可以再加裝3.6，而且在Anaconda的幫忙下還可以自由切換呢  \n",
    "> 由於Python3的一些語句無法在Python2被執行  \n",
    "> 而Python2卻可以透過<code>import __future__</code>的方式來採用Python3的特性  \n",
    "> 所以筆者認為先學Python2是比較穩健的做法(怕有些library不支援Python3)  \n",
    "> 往後如有2和3寫法差異的地方也會特別提醒  \n",
    "\n",
    "### 啟動jupyter開發環境\n",
    "![intro1](./intro-1.jpg)\n",
    "\n",
    "### 新增一個python 2筆記本\n",
    "jupyter會把我們的電腦當成一個小型伺服器，可以通過網頁介面作檔案管理  \n",
    "以windows為例預設啟動路徑是：C:\\Users\\username  \n",
    "將來我們在筆記本上寫的內容會存在這裡  \n",
    "如果要引入模塊(其他.py檔案)也是放在這個目錄  \n",
    "![intro2](./intro-2.jpg)\n",
    "\n",
    "---"
   ]
  },
  {
   "cell_type": "markdown",
   "metadata": {},
   "source": [
    "# 第一支python程式\n",
    "先試試怎麼讓python輸出訊息，也就是程序員的咒語\"Hello world\""
   ]
  },
  {
   "cell_type": "code",
   "execution_count": 1,
   "metadata": {},
   "outputs": [
    {
     "name": "stdout",
     "output_type": "stream",
     "text": [
      "Hello world!\n"
     ]
    }
   ],
   "source": [
    "print \"Hello world!\""
   ]
  },
  {
   "cell_type": "markdown",
   "metadata": {},
   "source": [
    "只要在cell裡面輸入上面的內容，按下shift+enter程式就會幫我們執行、並且產生一個新的cell\n",
    "\n",
    "> Python2中print是程式語句的一種，直接空格接上要輸出的內容就可以  \n",
    "> Python3中print屬於函式而非語句，必須加圓括弧  \n",
    "> 所以上面這行程式必須改成<code> print(\"Hello world!\") </code>"
   ]
  },
  {
   "cell_type": "markdown",
   "metadata": {},
   "source": [
    "\n",
    "---\n",
    "\n",
    "# 參考資料\n",
    "\n",
    "+ [简明Python教程](http://www.kuqin.com/abyteofpython_cn/index.html)：我第一次學python語法使用的參考資料、真的很簡明\n",
    "\n",
    "+ [Python快速入門 by DOKELUNG](http://dokelung-blog.logdown.com/posts/280520-python-quickstart)：我心中理想的「快速入門」文章，雖然它是為了Django所作的入門磚\n",
    "\n",
    "+ [Python 2.X官方tutorial](https://docs.python.org/2/tutorial/index.html)：官方文檔，語法細節講得非常詳盡\n",
    "\n",
    "+ [Python的wiki頁](https://zh.wikipedia.org/wiki/Python)：Python作為程式語言的定位\n",
    "\n",
    "+ [Markdown語法說明](http://markdown.tw/)：編寫這份文件需要的markdown知識"
   ]
  }
 ],
 "metadata": {
  "kernelspec": {
   "display_name": "Python 2",
   "language": "python",
   "name": "python2"
  },
  "language_info": {
   "codemirror_mode": {
    "name": "ipython",
    "version": 2
   },
   "file_extension": ".py",
   "mimetype": "text/x-python",
   "name": "python",
   "nbconvert_exporter": "python",
   "pygments_lexer": "ipython2",
   "version": "2.7.13"
  }
 },
 "nbformat": 4,
 "nbformat_minor": 2
}
