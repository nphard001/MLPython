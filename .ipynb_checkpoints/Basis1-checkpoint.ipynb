{
 "cells": [
  {
   "cell_type": "markdown",
   "metadata": {},
   "source": [
    "<!--\n",
    "# 語法篇架構\n",
    "篇名 | 主要內容 | 補充內容\n",
    "-|-|-\n",
    "Basis1 | 四則運算、if、函式定義 | 函式預設值、print格式化字串、畫表格\n",
    "Basis2 | 列表、for、while     | 畫折線圖\n",
    "Basis3 | import、內建函式     | 輸出文字檔\n",
    "\n",
    "---\n",
    "\n",
    "-->\n",
    "\n",
    "\n",
    "# 基礎運算：複利的力量\n",
    "> ### 讓我們從一個理財問題出發：  \n",
    "> 退休公務員享有18%優存利率。假如現在存入本金10000，以年計息滾入本金，4年後可以收回多少錢？  \n",
    "\n",
    "根據72法則知道答案差不多是20000元  \n",
    "$(1+18\\%)^4 * 10000$  \n",
    "現在我們要利用Python實作這條數學公式  \n"
   ]
  },
  {
   "cell_type": "code",
   "execution_count": 1,
   "metadata": {},
   "outputs": [
    {
     "name": "stdout",
     "output_type": "stream",
     "text": [
      "19387.7776\n"
     ]
    }
   ],
   "source": [
    "#-- Example 1 --#\n",
    "principal = 10000\n",
    "rate      = 18\n",
    "year      = 4\n",
    "\n",
    "grossRate = (100+rate)/100.0\n",
    "money     = grossRate ** year * principal\n",
    "print money"
   ]
  },
  {
   "cell_type": "markdown",
   "metadata": {
    "collapsed": true
   },
   "source": [
    "+ 井字號#之後該行的內容不會被程式執行，是給人看的註解\n",
    "+ Python的基礎運算  \n",
    "\n",
    "運算子 | 名稱 | 說明 | 例子\n",
    "-|-|-|-\n",
    "\\+|加| 數字相加<br>字串連接 | <code>1+1=2<br>\"app\"+\"le\"=\"apple\"</code>\n",
    "\\-|減| 數字相減或取負| <code>100-8=92</code>\n",
    "\\*|乘| 數字相乘<br>字串重複若干次 | <code>8\\*8=64<br>\"la\"\\*3 =\"lalala\"</code>\n",
    "/|除| (如果都是整數)<br>則只取整除部分 | <code>10/4=2<br>10/4.0=2.5<br>10.0/4=2.5 </code>\n",
    "//|整除| 相除取整數部分 | <code>10//4=2<br>4//1.3=3.0<br>2.7//1=2.0</code>\n",
    "\n",
    "> 在Python3中，除法/一律代表完整的小數除法 <code>10/4=2.5</code>  \n",
    "> \n",
    "> Python2可以加入：\n",
    "> \n",
    ">     from __future__ import division\n",
    ">     \n",
    "> 來聲明使用這個特性\n",
    "\n",
    "<!--\n",
    "+\t加\t两个对象相加\t3 + 5得到8。'a' + 'b'得到'ab'。\n",
    "-\t减\t得到负数或是一个数减去另一个数\t-5.2得到一个负数。50 - 24得到26。\n",
    "*\t乘\t两个数相乘或是返回一个被重复若干次的字符串\t2 * 3得到6。'la' * 3得到'lalala'。\n",
    "**\t幂\t\n",
    "返回x的y次幂\n",
    "\n",
    "3 ** 4得到81（即3 * 3 * 3 * 3）\n",
    "/\t除\tx除以y\t4/3得到1（整数的除法得到整数结果）。4.0/3或4/3.0得到1.3333333333333333\n",
    "//\t取整除\t返回商的整数部分\t4 // 3.0得到1.0\n",
    "%\t取模\t返回除法的余数\t8%3得到2。-25.5%2.25得到1.5\n",
    "-->"
   ]
  },
  {
   "cell_type": "code",
   "execution_count": 12,
   "metadata": {},
   "outputs": [
    {
     "name": "stdout",
     "output_type": "stream",
     "text": [
      "2.0\n"
     ]
    }
   ],
   "source": [
    "from __future__ import division\n",
    "print 2.717//1"
   ]
  },
  {
   "cell_type": "markdown",
   "metadata": {},
   "source": [
    "---\n",
    "\n",
    "# 參考資料\n",
    "[Python2官方教程(4) - More Control Flow Tools](https://docs.python.org/2/tutorial/controlflow.html)"
   ]
  },
  {
   "cell_type": "markdown",
   "metadata": {},
   "source": [
    "1.列出基本運算  \n",
    "2.小數除法vs整數除法  \n",
    "3.運算優先級  "
   ]
  },
  {
   "cell_type": "code",
   "execution_count": 8,
   "metadata": {},
   "outputs": [
    {
     "ename": "ZeroDivisionError",
     "evalue": "integer division or modulo by zero",
     "output_type": "error",
     "traceback": [
      "\u001b[0;31m---------------------------------------------------------------------------\u001b[0m",
      "\u001b[0;31mZeroDivisionError\u001b[0m                         Traceback (most recent call last)",
      "\u001b[0;32m<ipython-input-8-a0641230c7a8>\u001b[0m in \u001b[0;36m<module>\u001b[0;34m()\u001b[0m\n\u001b[0;32m----> 1\u001b[0;31m \u001b[0;36m3\u001b[0m\u001b[0;34m/\u001b[0m\u001b[0;36m0\u001b[0m\u001b[0;34m\u001b[0m\u001b[0m\n\u001b[0m",
      "\u001b[0;31mZeroDivisionError\u001b[0m: integer division or modulo by zero"
     ]
    }
   ],
   "source": [
    "3/0"
   ]
  },
  {
   "cell_type": "code",
   "execution_count": 2,
   "metadata": {},
   "outputs": [
    {
     "name": "stdout",
     "output_type": "stream",
     "text": [
      "11800.0\n",
      "13924.0\n",
      "16430.32\n",
      "19387.7776\n"
     ]
    }
   ],
   "source": [
    "#-- Example 2 --#\n",
    "def deposit(principal,rate,year):\n",
    "    grossRate = (100+rate)/100.0\n",
    "    money     = grossRate ** year * principal\n",
    "    return money\n",
    "\n",
    "print deposit(10000,18,1)\n",
    "print deposit(10000,18,2)\n",
    "print deposit(10000,18,3)\n",
    "print deposit(10000,18,4)"
   ]
  },
  {
   "cell_type": "markdown",
   "metadata": {},
   "source": [
    "1.縮排代表區塊\n",
    "2.區域變數外面看不到"
   ]
  },
  {
   "cell_type": "code",
   "execution_count": null,
   "metadata": {
    "collapsed": true
   },
   "outputs": [],
   "source": []
  },
  {
   "cell_type": "code",
   "execution_count": 3,
   "metadata": {},
   "outputs": [
    {
     "name": "stdout",
     "output_type": "stream",
     "text": [
      "10000\n",
      "10900.0\n",
      "11800.0\n",
      "13924.0\n"
     ]
    }
   ],
   "source": [
    "#-- Example 3 --#\n",
    "def deposit2(principal,rate,year):\n",
    "    if year==0:\n",
    "        money     = principal\n",
    "    elif year<1:\n",
    "        money     = (100+rate*year)/100.0 * principal\n",
    "    else:\n",
    "        grossRate = (100+rate)/100.0\n",
    "        money     = grossRate ** year * principal\n",
    "    return money\n",
    "\n",
    "print deposit2(10000,18,0)\n",
    "print deposit2(10000,18,0.5)\n",
    "print deposit2(10000,18,1)\n",
    "print deposit2(10000,18,2)\n",
    "\n"
   ]
  },
  {
   "cell_type": "markdown",
   "metadata": {},
   "source": [
    "1.條件判斷式"
   ]
  },
  {
   "cell_type": "markdown",
   "metadata": {},
   "source": [
    "2.邏輯運算(exercise?)"
   ]
  },
  {
   "cell_type": "code",
   "execution_count": 4,
   "metadata": {},
   "outputs": [
    {
     "name": "stdout",
     "output_type": "stream",
     "text": [
      "set x=9\n",
      "False\n",
      "False\n",
      "True\n",
      "True\n",
      "False\n"
     ]
    }
   ],
   "source": [
    "# logics\n",
    "def check(x):\n",
    "    print \"set x=%d\"%x\n",
    "    print x==5\n",
    "    print x<=5\n",
    "    print x>=5\n",
    "    print x>3**2\n",
    "    print 2 < x < 6\n",
    "check(9+1e-10)"
   ]
  },
  {
   "cell_type": "code",
   "execution_count": null,
   "metadata": {
    "collapsed": true
   },
   "outputs": [],
   "source": []
  },
  {
   "cell_type": "code",
   "execution_count": 5,
   "metadata": {},
   "outputs": [
    {
     "name": "stdout",
     "output_type": "stream",
     "text": [
      "save   1 year(s) -> got money         11800.00\n",
      "save   2 year(s) -> got money         13924.00\n",
      "save   3 year(s) -> got money         16430.32\n",
      "save   4 year(s) -> got money         19387.78\n",
      "save   5 year(s) -> got money         22877.58\n",
      "save  10 year(s) -> got money         52338.36\n",
      "save  15 year(s) -> got money        119737.48\n",
      "save  20 year(s) -> got money        273930.35\n",
      "save  30 year(s) -> got money       1433706.38\n",
      "save  50 year(s) -> got money      39273568.60\n",
      "save 100 year(s) -> got money  154241319054.53\n"
     ]
    }
   ],
   "source": [
    "# more\n",
    "def report(principal=10000,rate=18,year=1):\n",
    "    print \"save %3d year(s) -> got money %16.2f\"%(year,deposit(principal,rate,year))\n",
    "\n",
    "report(year=1)\n",
    "report(year=2)\n",
    "report(year=3)\n",
    "report(year=4)\n",
    "report(year=5)\n",
    "report(year=10)\n",
    "report(year=15)\n",
    "report(year=20)\n",
    "report(year=30)\n",
    "report(year=50)\n",
    "report(year=100)"
   ]
  },
  {
   "cell_type": "code",
   "execution_count": 6,
   "metadata": {},
   "outputs": [
    {
     "data": {
      "text/markdown": [
       "Year | Money\n",
       "-|-\n",
       "1|11800.00\n",
       "2|13924.00\n",
       "3|16430.32\n",
       "4|19387.78\n",
       "5|22877.58\n",
       "10|52338.36\n",
       "15|119737.48\n",
       "20|273930.35\n",
       "30|1433706.38\n",
       "50|39273568.60\n",
       "100|154241319054.53"
      ],
      "text/plain": [
       "<IPython.core.display.Markdown object>"
      ]
     },
     "metadata": {},
     "output_type": "display_data"
    },
    {
     "name": "stdout",
     "output_type": "stream",
     "text": [
      "Year | Money\n",
      "-|-\n",
      "1|11800.00\n",
      "2|13924.00\n",
      "3|16430.32\n",
      "4|19387.78\n",
      "5|22877.58\n",
      "10|52338.36\n",
      "15|119737.48\n",
      "20|273930.35\n",
      "30|1433706.38\n",
      "50|39273568.60\n",
      "100|154241319054.53\n"
     ]
    }
   ],
   "source": [
    "from IPython.display import display, Markdown\n",
    "outputString = \"Year | Money\" + \"\\n\" + \"-|-\"\n",
    "def outputStringAppend(str):\n",
    "    global outputString\n",
    "    outputString += '\\n'+str\n",
    "def stringReport(principal=10000,rate=18,year=1):\n",
    "    return \"%d|%.2f\"%(year,deposit(principal,rate,year))\n",
    "outputStringAppend(stringReport(year=1))\n",
    "outputStringAppend(stringReport(year=2))\n",
    "outputStringAppend(stringReport(year=3))\n",
    "outputStringAppend(stringReport(year=4))\n",
    "outputStringAppend(stringReport(year=5))\n",
    "outputStringAppend(stringReport(year=10))\n",
    "outputStringAppend(stringReport(year=15))\n",
    "outputStringAppend(stringReport(year=20))\n",
    "outputStringAppend(stringReport(year=30))\n",
    "outputStringAppend(stringReport(year=50))\n",
    "outputStringAppend(stringReport(year=100))\n",
    "display(Markdown(outputString))\n",
    "print outputString"
   ]
  },
  {
   "cell_type": "code",
   "execution_count": null,
   "metadata": {
    "collapsed": true
   },
   "outputs": [],
   "source": []
  },
  {
   "cell_type": "code",
   "execution_count": null,
   "metadata": {
    "collapsed": true
   },
   "outputs": [],
   "source": []
  },
  {
   "cell_type": "code",
   "execution_count": null,
   "metadata": {
    "collapsed": true
   },
   "outputs": [],
   "source": []
  },
  {
   "cell_type": "code",
   "execution_count": null,
   "metadata": {
    "collapsed": true
   },
   "outputs": [],
   "source": []
  },
  {
   "cell_type": "code",
   "execution_count": null,
   "metadata": {
    "collapsed": true
   },
   "outputs": [],
   "source": []
  },
  {
   "cell_type": "code",
   "execution_count": 7,
   "metadata": {},
   "outputs": [
    {
     "name": "stdout",
     "output_type": "stream",
     "text": [
      "           Money  Year\n",
      "0   11800.000000     1\n",
      "1   13924.000000     2\n",
      "2   16430.320000     3\n",
      "3   19387.777600     4\n",
      "4   22877.577568     5\n",
      "5   52338.355538    10\n",
      "6  119737.478860    15\n",
      "7  273930.346042    20\n"
     ]
    }
   ],
   "source": [
    "import pandas as pd\n",
    "import numpy as np\n",
    "df = pd.DataFrame({\n",
    "    'Year':[1,2,3,4,5,10,15,20],\n",
    "    'Money':[\n",
    "        deposit(10000,18,1),\n",
    "        deposit(10000,18,2),\n",
    "        deposit(10000,18,3),\n",
    "        deposit(10000,18,4),\n",
    "        deposit(10000,18,5),\n",
    "        deposit(10000,18,10),\n",
    "        deposit(10000,18,15),\n",
    "        deposit(10000,18,20)\n",
    "    ]})\n",
    "print df"
   ]
  },
  {
   "cell_type": "code",
   "execution_count": null,
   "metadata": {},
   "outputs": [],
   "source": []
  },
  {
   "cell_type": "code",
   "execution_count": null,
   "metadata": {
    "collapsed": true
   },
   "outputs": [],
   "source": []
  }
 ],
 "metadata": {
  "kernelspec": {
   "display_name": "Python 2",
   "language": "python",
   "name": "python2"
  },
  "language_info": {
   "codemirror_mode": {
    "name": "ipython",
    "version": 2
   },
   "file_extension": ".py",
   "mimetype": "text/x-python",
   "name": "python",
   "nbconvert_exporter": "python",
   "pygments_lexer": "ipython2",
   "version": "2.7.13"
  }
 },
 "nbformat": 4,
 "nbformat_minor": 2
}
