{
 "cells": [
  {
   "cell_type": "markdown",
   "metadata": {},
   "source": [
    "# Intro\n",
    "這部教程是為了我一群台大經濟系的好友寫的，所以受眾很明確，就是對(財經)數據分析有興趣、沒有資訊背景的人。  \n",
    "以往對於教人寫程式這種事，我一直認為網路上的資源已經很豐富、貼給他們就好，不應該再「重造輪子」  \n",
    "不過當我自己在入門python的時候遇到了一些困難：  \n",
    "1. 網路上「Python入門」的資料實在是太多了，篇幅限制下往往面臨(新手向)觀念講解和語法細節之間的trade-off\n",
    "2. Python作為一個[General-purpose](https://zh.wikipedia.org/wiki/%E9%80%9A%E7%94%A8%E7%BC%96%E7%A8%8B%E8%AF%AD%E8%A8%80)的程式語言能做事不少。很難找到一個統一的、具教學性質的demo告訴人們它(在科學計算/機器學習方面)能解決什麼問題\n",
    "3. 繁體中文找到的教程多半不會採用特定開發環境，採用哪些套件也並未有統一標準\n",
    "\n",
    "所以我想寫一部教程來解決這些問題，寫作的方向包括：\n",
    "+ Python語法的部分只整理核心觀念、細節的部分再找一些外部連結來補足(解決1)\n",
    "+ 設計一套範例，貫串資料收集、前處理、可視化/資料探索、統計/機器學習建模、分析預測，提供初學者overview(有點複雜的目標，解決2)\n",
    "+ 採取Anaconda集成環境，內建NumPy、SciPy、Pandas、Matplotlib、scikit-learn等重要常用套件\n",
    "\n",
    "我覺得coding的世界相當遼闊，從選程式語言、選IDE、選套件，到怎麼靠google自我學習，完成任務的方法有千百種、非常自由。  \n",
    "希望初學者讀過我的作品，就像是來我的「船」上參觀過的人。  \n",
    "在了解航海是怎麼一回事之後，有能力去造出他們自己喜歡的船，在寬廣的大海中遨遊。  \n",
    "\n",
    "\n",
    "# Python是什麼樣的程式語言？\n",
    "\n",
    "## Python的特性(與C++作比較)\n",
    "1. 動態語言\n",
    "2. 直譯語言、使用IDLE\n",
    "3. 撰寫容易vs執行速度trade off\n",
    "\n",
    "## Python的優點\n",
    "1. 語法簡單：和所有的動態語言一樣\n",
    "2. 功能強\n",
    "3. 開源\n",
    "4. 社群廣大\n",
    "\n",
    "---"
   ]
  },
  {
   "cell_type": "markdown",
   "metadata": {},
   "source": [
    "\n",
    "\n",
    "# 建置開發環境\n",
    "\n",
    "### 下載Anaconda\n",
    "[Anaconda官方網站](https://www.continuum.io/downloads)  \n",
    "選擇你的作業系統Windows、MacOS或Linux   \n",
    "installer我們選擇「Python 2.7 version」   \n",
    "將來有需要可以再加裝3.6，而且在Anaconda的幫忙下還可以自由切換呢  \n",
    "\n",
    "### 啟動jupyter\n",
    "![intro1](./intro-1.jpg)\n",
    "\n",
    "### 新增一個python 2筆記本\n",
    "jupyter會把我們的電腦當成一個小型伺服器，可以通過網頁介面作檔案管理  \n",
    "以windows為例預設啟動路徑是：C:\\Users\\username  \n",
    "將來我們在筆記本上寫的內容會存在這裡  \n",
    "如果要引入模塊(其他.py檔案)也是放在這個目錄  \n",
    "![intro2](./intro-2.jpg)\n",
    "\n",
    "---"
   ]
  },
  {
   "cell_type": "markdown",
   "metadata": {},
   "source": [
    "# 第一支python程式\n"
   ]
  },
  {
   "cell_type": "code",
   "execution_count": 1,
   "metadata": {},
   "outputs": [
    {
     "name": "stdout",
     "output_type": "stream",
     "text": [
      "Hello world!\n"
     ]
    }
   ],
   "source": [
    "print \"Hello world!\""
   ]
  },
  {
   "cell_type": "markdown",
   "metadata": {},
   "source": [
    "\n",
    "---\n",
    "\n",
    "# 參考資料\n",
    "\n",
    "+ [简明Python教程](http://www.kuqin.com/abyteofpython_cn/index.html)：我第一次學python語法使用的參考資料、真的很簡明\n",
    "\n",
    "+ [Python快速入門 by DOKELUNG](http://dokelung-blog.logdown.com/posts/280520-python-quickstart)：我心中理想的「快速入門」文章，雖然它是為了Django所作的入門磚\n",
    "\n",
    "+ [Python 2.X官方tutorial](https://docs.python.org/2/tutorial/index.html)：官方文檔，語法細節講得非常詳盡\n",
    "\n",
    "+ [Python的wiki頁](https://zh.wikipedia.org/wiki/Python)：Python作為程式語言的定位\n",
    "\n",
    "+ [Markdown語法說明](http://markdown.tw/)：編寫這份文件需要的markdown知識"
   ]
  }
 ],
 "metadata": {
  "kernelspec": {
   "display_name": "Python 2",
   "language": "python",
   "name": "python2"
  },
  "language_info": {
   "codemirror_mode": {
    "name": "ipython",
    "version": 2
   },
   "file_extension": ".py",
   "mimetype": "text/x-python",
   "name": "python",
   "nbconvert_exporter": "python",
   "pygments_lexer": "ipython2",
   "version": "2.7.13"
  }
 },
 "nbformat": 4,
 "nbformat_minor": 2
}
