{
 "cells": [
  {
   "cell_type": "markdown",
   "metadata": {},
   "source": [
    "# 下載Anaconda\n",
    "\n",
    "先下載開發環境吧！  \n",
    "連上[Anaconda官方網站](https://www.continuum.io/downloads)  \n",
    "選擇你的作業系統Windows、MacOS或Linux  \n",
    "installer我們選擇「Python 2.7 version」  \n",
    "將來有需要可以再加裝3.6，而且兩個都能用喔\n",
    "\n",
    "---\n",
    "\n",
    "# Python是什麼樣的程式語言？\n",
    "\n",
    "\n",
    "## Python的優點\n",
    "1. 語法簡單：和所有的動態語言一樣\n",
    "2. 功能強\n",
    "3. 開源\n",
    "4. 社群廣大\n",
    "\n",
    "## Python的特性(與C++作比較)\n",
    "\n",
    "   ||Python | C++|\n",
    "|-------- | - | - |\n",
    "|型態     | 動態 | 靜態|\n",
    "|執行方式 | 直譯 | 編譯|\n",
    "|撰寫難度 | 容易 | 較難|\n",
    "|速度     | 較慢 | 快|\n",
    "\n",
    "\n",
    "# 啟動jupyter開發環境\n",
    "開啟剛剛安裝好的Anaconda Navigator\n",
    "![text](./intro-1.jpg)\n",
    "\n",
    "\n"
   ]
  },
  {
   "cell_type": "code",
   "execution_count": 2,
   "metadata": {
    "collapsed": true
   },
   "outputs": [],
   "source": [
    "def testFunc():pass"
   ]
  },
  {
   "cell_type": "markdown",
   "metadata": {},
   "source": [
    "# 參考資料\n",
    "\n",
    "[Python快速入門 by DOKELUNG](http://dokelung-blog.logdown.com/posts/280520-python-quickstart)\n",
    "\n",
    "\n",
    "[简明Python教程](http://www.kuqin.com/abyteofpython_cn/index.html)\n",
    "\n",
    "[wiki](https://zh.wikipedia.org/wiki/Python)"
   ]
  },
  {
   "cell_type": "code",
   "execution_count": 7,
   "metadata": {},
   "outputs": [
    {
     "name": "stdout",
     "output_type": "stream",
     "text": [
      "{0: 0, 1: 1, 2: 4, 3: 9, 4: 16, 5: 25, 6: 36, 7: 49, 8: 64, 9: 81}\n"
     ]
    }
   ],
   "source": [
    "tobj = {i:i*i for i in range(10)}\n",
    "print tobj"
   ]
  },
  {
   "cell_type": "code",
   "execution_count": null,
   "metadata": {
    "collapsed": true
   },
   "outputs": [],
   "source": []
  }
 ],
 "metadata": {
  "kernelspec": {
   "display_name": "Python 2",
   "language": "python",
   "name": "python2"
  },
  "language_info": {
   "codemirror_mode": {
    "name": "ipython",
    "version": 2
   },
   "file_extension": ".py",
   "mimetype": "text/x-python",
   "name": "python",
   "nbconvert_exporter": "python",
   "pygments_lexer": "ipython2",
   "version": "2.7.13"
  }
 },
 "nbformat": 4,
 "nbformat_minor": 2
}
