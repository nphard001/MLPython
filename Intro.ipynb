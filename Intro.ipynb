{
 "cells": [
  {
   "cell_type": "markdown",
   "metadata": {},
   "source": [
    "# Intro\n",
    "> 這部教程是為了我一群台大經濟系的朋友寫的。  \n",
    "> 以往對於教人寫程式這種事，我一直認為網路上的資源已經很豐富、貼給他們就好，不應該再「重造輪子」\n",
    "> 不過當我自己在入門python的時候\n",
    " -- 受眾設定是對數據分析有興趣、沒有資訊背景的人\n",
    "\n",
    "\n",
    "# Python是什麼樣的程式語言？\n",
    "\n",
    "## Python的特性(與C++作比較)\n",
    "1. 動態語言\n",
    "2. 直譯語言、使用IDLE\n",
    "3. 撰寫容易vs執行速度trade off\n",
    "\n",
    "## Python的優點\n",
    "1. 語法簡單：和所有的動態語言一樣\n",
    "2. 功能強\n",
    "3. 開源\n",
    "4. 社群廣大\n",
    "\n",
    "---"
   ]
  },
  {
   "cell_type": "markdown",
   "metadata": {},
   "source": [
    "\n",
    "\n",
    "# 建置開發環境\n",
    "\n",
    "### 下載Anaconda\n",
    "[Anaconda官方網站](https://www.continuum.io/downloads)  \n",
    "選擇你的作業系統Windows、MacOS或Linux   \n",
    "installer我們選擇「Python 2.7 version」   \n",
    "將來有需要可以再加裝3.6，而且在Anaconda的幫忙下還可以自由切換呢  \n",
    "\n",
    "### 啟動jupyter\n",
    "![intro1](./intro-1.jpg)\n",
    "\n",
    "### 新增一個python 2筆記本\n",
    "jupyter會把我們的電腦當成一個小型伺服器，可以通過網頁介面作檔案管理  \n",
    "以windows為例預設啟動路徑是：C:\\Users\\username  \n",
    "將來我們在筆記本上寫的內容會存在這裡  \n",
    "如果要引入模塊(其他.py檔案)也是放在這個目錄  \n",
    "![intro2](./intro-2.jpg)\n",
    "\n",
    "---"
   ]
  },
  {
   "cell_type": "markdown",
   "metadata": {},
   "source": [
    "# 第一支python程式\n"
   ]
  },
  {
   "cell_type": "code",
   "execution_count": 1,
   "metadata": {},
   "outputs": [
    {
     "name": "stdout",
     "output_type": "stream",
     "text": [
      "Hello world!\n"
     ]
    }
   ],
   "source": [
    "print \"Hello world!\""
   ]
  },
  {
   "cell_type": "markdown",
   "metadata": {},
   "source": [
    "\n",
    "---\n",
    "\n",
    "# 參考資料\n",
    "\n",
    "+ [简明Python教程](http://www.kuqin.com/abyteofpython_cn/index.html)：我第一次學python語法使用的參考資料、真的很簡明\n",
    "\n",
    "+ [Python快速入門 by DOKELUNG](http://dokelung-blog.logdown.com/posts/280520-python-quickstart)：我心中理想的「快速入門」文章，雖然它是為了Django所作的入門磚\n",
    "\n",
    "+ [Python 2.X官方tutorial](https://docs.python.org/2/tutorial/index.html)：官方文檔，語法細節講得非常詳盡\n",
    "\n",
    "+ [Python的wiki頁](https://zh.wikipedia.org/wiki/Python)：Python作為程式語言的定位\n",
    "\n",
    "+ [Markdown語法說明](http://markdown.tw/)：編寫這份文件需要的markdown知識"
   ]
  }
 ],
 "metadata": {
  "kernelspec": {
   "display_name": "Python 2",
   "language": "python",
   "name": "python2"
  },
  "language_info": {
   "codemirror_mode": {
    "name": "ipython",
    "version": 2
   },
   "file_extension": ".py",
   "mimetype": "text/x-python",
   "name": "python",
   "nbconvert_exporter": "python",
   "pygments_lexer": "ipython2",
   "version": "2.7.13"
  }
 },
 "nbformat": 4,
 "nbformat_minor": 2
}
