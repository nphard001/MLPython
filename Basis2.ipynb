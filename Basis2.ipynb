{
 "cells": [
  {
   "cell_type": "markdown",
   "metadata": {},
   "source": [
    "# 流程控制if...elif...else\n",
    "為了使用if條件敘述，我們要先了解python的邏輯運算是怎麼運作的"
   ]
  },
  {
   "cell_type": "code",
   "execution_count": 7,
   "metadata": {},
   "outputs": [
    {
     "name": "stdout",
     "output_type": "stream",
     "text": [
      "#-- a= 1 ,b= 1.0 --#\n",
      "a==b : True\n",
      "a!=b : False\n",
      "a<b  : False\n",
      "a<=b : True\n",
      "a>b  : False\n",
      "a>=b : True\n",
      "#--------------------#\n",
      "#-- a= 9 ,b= 81 --#\n",
      "a==b : False\n",
      "a!=b : True\n",
      "a<b  : True\n",
      "a<=b : True\n",
      "a>b  : False\n",
      "a>=b : False\n",
      "#--------------------#\n",
      "#-- a= short ,b= longString --#\n",
      "a==b : False\n",
      "a!=b : True\n",
      "a<b  : False\n",
      "a<=b : False\n",
      "a>b  : True\n",
      "a>=b : True\n",
      "#--------------------#\n",
      "#-- a= False ,b= True --#\n",
      "a==b : False\n",
      "a!=b : True\n",
      "a<b  : True\n",
      "a<=b : True\n",
      "a>b  : False\n",
      "a>=b : False\n",
      "#--------------------#\n"
     ]
    }
   ],
   "source": [
    "def relationCheck(a,b):\n",
    "    print \"#-- a=\",a,\",b=\",b,\"--#\"\n",
    "    print \"a==b :\",a==b\n",
    "    print \"a!=b :\",a!=b\n",
    "    print \"a<b  :\",a<b\n",
    "    print \"a<=b :\",a<=b\n",
    "    print \"a>b  :\",a>b\n",
    "    print \"a>=b :\",a>=b\n",
    "    print \"#--------------------#\"\n",
    "relationCheck(1,1.00000)\n",
    "relationCheck(9,81)\n",
    "relationCheck(\"short\",\"longString\")\n",
    "relationCheck(False,True)"
   ]
  },
  {
   "cell_type": "markdown",
   "metadata": {},
   "source": [
    "---\n",
    "承繼上一章我們繼續使用定存的例子："
   ]
  },
  {
   "cell_type": "code",
   "execution_count": 5,
   "metadata": {},
   "outputs": [
    {
     "name": "stdout",
     "output_type": "stream",
     "text": [
      "19387.7776\n"
     ]
    }
   ],
   "source": [
    "def deposit(principal,rate,year):\n",
    "    return ((100+rate)/100.0)**year * principal\n",
    "print deposit(10000,18,4) # for test"
   ]
  },
  {
   "cell_type": "markdown",
   "metadata": {},
   "source": [
    "---\n",
    "如果要通過條件判斷if來確認本利和是否超過20000，可以這樣寫："
   ]
  },
  {
   "cell_type": "code",
   "execution_count": 13,
   "metadata": {},
   "outputs": [
    {
     "name": "stdout",
     "output_type": "stream",
     "text": [
      "check m= 19387.7776\n",
      "check m= 19718.4785063\n",
      "check m= 20053.3921\n",
      "The money doubled.\n"
     ]
    }
   ],
   "source": [
    "#-- Example 1 --#\n",
    "def checkIfDouble(m):\n",
    "    print \"check m=\",m\n",
    "    if m>=20000:\n",
    "        print \"The money doubled.\"\n",
    "checkIfDouble(deposit(10000,18.0,4))\n",
    "checkIfDouble(deposit(10000,18.5,4))\n",
    "checkIfDouble(deposit(10000,19.0,4))"
   ]
  },
  {
   "cell_type": "markdown",
   "metadata": {},
   "source": [
    "---\n",
    "如果希望當不滿20000時也能輸出相應的訊息，可以利用if...else敘述："
   ]
  },
  {
   "cell_type": "code",
   "execution_count": 14,
   "metadata": {},
   "outputs": [
    {
     "name": "stdout",
     "output_type": "stream",
     "text": [
      "check m= 19387.7776\n",
      "Not doubled.\n",
      "check m= 19718.4785063\n",
      "Not doubled.\n",
      "check m= 20053.3921\n",
      "The money doubled.\n"
     ]
    }
   ],
   "source": [
    "#-- Example 2 --#\n",
    "def checkIfDouble2(m):\n",
    "    print \"check m=\",m\n",
    "    if m>=20000:\n",
    "        print \"The money doubled.\"\n",
    "    else:\n",
    "        print \"Not doubled.\"\n",
    "checkIfDouble2(deposit(10000,18.0,4))\n",
    "checkIfDouble2(deposit(10000,18.5,4))\n",
    "checkIfDouble2(deposit(10000,19.0,4))"
   ]
  },
  {
   "cell_type": "markdown",
   "metadata": {},
   "source": [
    "---\n",
    "如果在不滿20000的情況下，想要更加細分不滿19500、不滿19000、不滿18500...的情形，可以用嵌套更多if的方式："
   ]
  },
  {
   "cell_type": "code",
   "execution_count": 21,
   "metadata": {},
   "outputs": [
    {
     "name": "stdout",
     "output_type": "stream",
     "text": [
      "check m= 18420.5970063\n",
      "Not doubled. Not exceed 18500.\n",
      "check m= 18738.8721\n",
      "Not doubled. Exceed 18500.\n",
      "check m= 19061.2539063\n",
      "Not doubled. Exceed 19000.\n",
      "check m= 19387.7776\n",
      "Not doubled. Exceed 19000.\n",
      "check m= 19718.4785063\n",
      "Not doubled. Exceed 19500. (Almost there!)\n",
      "check m= 20053.3921\n",
      "The money doubled.\n"
     ]
    }
   ],
   "source": [
    "#-- Example 3-1 --#\n",
    "def checkIfDouble3_1(m):\n",
    "    print \"check m=\",m\n",
    "    if m>=20000:\n",
    "        print \"The money doubled.\"\n",
    "    else:\n",
    "        if m>=19500:\n",
    "            print \"Not doubled. Exceed 19500. (Almost there!)\"\n",
    "        else:\n",
    "            if m>=19000:\n",
    "                print \"Not doubled. Exceed 19000.\"\n",
    "            else:\n",
    "                if m>=18500:\n",
    "                    print \"Not doubled. Exceed 18500.\"\n",
    "                else:\n",
    "                    print \"Not doubled. Not exceed 18500.\"\n",
    "checkIfDouble3_1(deposit(10000,16.5,4))\n",
    "checkIfDouble3_1(deposit(10000,17.0,4))\n",
    "checkIfDouble3_1(deposit(10000,17.5,4))\n",
    "checkIfDouble3_1(deposit(10000,18.0,4))\n",
    "checkIfDouble3_1(deposit(10000,18.5,4))\n",
    "checkIfDouble3_1(deposit(10000,19.0,4))"
   ]
  },
  {
   "cell_type": "markdown",
   "metadata": {},
   "source": [
    "---\n",
    "但是不斷重複else...if的過程很冗長，可以用elif來改寫(就是elseif的意思)："
   ]
  },
  {
   "cell_type": "code",
   "execution_count": 22,
   "metadata": {},
   "outputs": [
    {
     "name": "stdout",
     "output_type": "stream",
     "text": [
      "check m= 18420.5970063\n",
      "Not doubled. Not exceed 18500.\n",
      "check m= 18738.8721\n",
      "Not doubled. Exceed 18500.\n",
      "check m= 19061.2539063\n",
      "Not doubled. Exceed 19000.\n",
      "check m= 19387.7776\n",
      "Not doubled. Exceed 19000.\n",
      "check m= 19718.4785063\n",
      "Not doubled. Exceed 19500. (Almost there!)\n",
      "check m= 20053.3921\n",
      "The money doubled.\n"
     ]
    }
   ],
   "source": [
    "#-- Example 3-2 --#\n",
    "def checkIfDouble3_2(m):\n",
    "    print \"check m=\",m\n",
    "    if m>=20000:\n",
    "        print \"The money doubled.\"\n",
    "    elif m>=19500:\n",
    "        print \"Not doubled. Exceed 19500. (Almost there!)\"\n",
    "    elif m>=19000:\n",
    "        print \"Not doubled. Exceed 19000.\"\n",
    "    elif m>=18500:\n",
    "        print \"Not doubled. Exceed 18500.\"\n",
    "    else:\n",
    "        print \"Not doubled. Not exceed 18500.\"\n",
    "checkIfDouble3_2(deposit(10000,16.5,4))\n",
    "checkIfDouble3_2(deposit(10000,17.0,4))\n",
    "checkIfDouble3_2(deposit(10000,17.5,4))\n",
    "checkIfDouble3_2(deposit(10000,18.0,4))\n",
    "checkIfDouble3_2(deposit(10000,18.5,4))\n",
    "checkIfDouble3_2(deposit(10000,19.0,4))"
   ]
  },
  {
   "cell_type": "markdown",
   "metadata": {},
   "source": [
    "如此得到一樣的結果，寫起來簡潔多了\n",
    "\n",
    "---\n",
    "\n",
    "如果想要判斷多個條件式，可以進行and/or邏輯運算："
   ]
  },
  {
   "cell_type": "code",
   "execution_count": 23,
   "metadata": {},
   "outputs": [
    {
     "name": "stdout",
     "output_type": "stream",
     "text": [
      "#-- x= True ,y= True ,z= True --#\n",
      "all true? True\n",
      "any true? True\n",
      "all true but z? False\n",
      "have x or have both y,z? True\n",
      "#-- x= True ,y= True ,z= False --#\n",
      "all true? False\n",
      "any true? True\n",
      "all true but z? True\n",
      "have x or have both y,z? True\n",
      "#-- x= True ,y= False ,z= False --#\n",
      "all true? False\n",
      "any true? True\n",
      "all true but z? False\n",
      "have x or have both y,z? True\n",
      "#-- x= False ,y= False ,z= False --#\n",
      "all true? False\n",
      "any true? False\n",
      "all true but z? False\n",
      "have x or have both y,z? False\n"
     ]
    }
   ],
   "source": [
    "def logicCheck(x,y,z):\n",
    "    print \"#-- x=\",x,\",y=\",y,\",z=\",z,\"--#\"\n",
    "    print \"all true?\",x and y and z\n",
    "    print \"any true?\",x or y or z\n",
    "    print \"all true but z?\",x and y and not z\n",
    "    print \"have x or have both y,z?\",x or y and z\n",
    "    #Precedence : not > and > or\n",
    "logicCheck(True,True,True)\n",
    "logicCheck(True,True,False)\n",
    "logicCheck(True,False,False)\n",
    "logicCheck(False,False,False)"
   ]
  },
  {
   "cell_type": "markdown",
   "metadata": {},
   "source": [
    "---\n",
    "\n",
    "判斷存款後金額值是不是介於19500到20000之間："
   ]
  },
  {
   "cell_type": "code",
   "execution_count": 25,
   "metadata": {},
   "outputs": [
    {
     "name": "stdout",
     "output_type": "stream",
     "text": [
      "check m= 19387.7776\n",
      "No.\n",
      "check m= 19718.4785063\n",
      "Yes. Almost there!\n",
      "check m= 20053.3921\n",
      "No.\n"
     ]
    }
   ],
   "source": [
    "def checkIfNearDoubled(m):\n",
    "    print \"check m=\",m\n",
    "    if 19500<=m and m<20000:\n",
    "        print \"Yes. Almost there!\"\n",
    "    else:\n",
    "        print \"No.\"\n",
    "\n",
    "checkIfNearDoubled(deposit(10000,18.0,4))\n",
    "checkIfNearDoubled(deposit(10000,18.5,4))\n",
    "checkIfNearDoubled(deposit(10000,19.0,4))"
   ]
  },
  {
   "cell_type": "markdown",
   "metadata": {},
   "source": [
    "---\n",
    "\n",
    "在Python中也可以使用更直覺的寫法："
   ]
  },
  {
   "cell_type": "code",
   "execution_count": 26,
   "metadata": {},
   "outputs": [
    {
     "name": "stdout",
     "output_type": "stream",
     "text": [
      "check m= 19387.7776\n",
      "No.\n",
      "check m= 19718.4785063\n",
      "Yes. Almost there!\n",
      "check m= 20053.3921\n",
      "No.\n"
     ]
    }
   ],
   "source": [
    "def checkIfNearDoubled2(m):\n",
    "    print \"check m=\",m\n",
    "    if 19500 <= m < 20000:\n",
    "        print \"Yes. Almost there!\"\n",
    "    else:\n",
    "        print \"No.\"\n",
    "\n",
    "checkIfNearDoubled2(deposit(10000,18.0,4))\n",
    "checkIfNearDoubled2(deposit(10000,18.5,4))\n",
    "checkIfNearDoubled2(deposit(10000,19.0,4))"
   ]
  },
  {
   "cell_type": "markdown",
   "metadata": {},
   "source": [
    "# 迴圈while\n",
    "\n",
    "前面的例子中，如果想列出利率介於16~19之間(0.5為間隔)的每一種存款結果，都是人工複製貼上\n",
    "\n",
    "事實上我們可以運用迴圈控制來讓電腦幫我們做到這件事，\n",
    "\n",
    "設定變數r從16開始，不斷印出相對應的存款值、遞增r值，直到超出19為止："
   ]
  },
  {
   "cell_type": "code",
   "execution_count": 27,
   "metadata": {},
   "outputs": [
    {
     "name": "stdout",
     "output_type": "stream",
     "text": [
      "rate =16.00 , money =  18106.39\n",
      "rate =16.50 , money =  18420.60\n",
      "rate =17.00 , money =  18738.87\n",
      "rate =17.50 , money =  19061.25\n",
      "rate =18.00 , money =  19387.78\n",
      "rate =18.50 , money =  19718.48\n",
      "rate =19.00 , money =  20053.39\n"
     ]
    }
   ],
   "source": [
    "def depositAfter4Years(rate):\n",
    "    money = deposit(10000,rate,4)\n",
    "    print \"rate =%4.2f , money =%10.2f\"%(rate,money)\n",
    "\n",
    "r=16\n",
    "while r<=19:\n",
    "    depositAfter4Years(r)\n",
    "    r += 0.5 # the same [r=r+0.5]"
   ]
  },
  {
   "cell_type": "markdown",
   "metadata": {},
   "source": [
    "---\n",
    "\n",
    "只要滿足while的條件式，程式就會不斷執行\n",
    "\n",
    "不只是利率r、年數y等自變數，我們也可以透過每次得到的結果存款m來做控制："
   ]
  },
  {
   "cell_type": "code",
   "execution_count": 34,
   "metadata": {},
   "outputs": [
    {
     "name": "stdout",
     "output_type": "stream",
     "text": [
      "year=  1 , money=  11800.00 , which<=27000\n",
      "year=  2 , money=  13924.00 , which<=27000\n",
      "year=  3 , money=  16430.32 , which<=27000\n",
      "year=  4 , money=  19387.78 , which<=27000\n",
      "year=  5 , money=  22877.58 , which<=27000\n",
      "year=  6 , money=  26995.54 , which<=27000\n"
     ]
    }
   ],
   "source": [
    "y=1\n",
    "m=deposit(10000,18,y)\n",
    "while m<=27000:\n",
    "    print \"year=%3d , money=%10.2f , which<=27000\"%(y,m)\n",
    "    y+=1\n",
    "    m=deposit(10000,18,y)"
   ]
  },
  {
   "cell_type": "markdown",
   "metadata": {},
   "source": [
    "---\n",
    "\n",
    "如果while的途中希望退出，可以使用break指令："
   ]
  },
  {
   "cell_type": "code",
   "execution_count": 33,
   "metadata": {},
   "outputs": [
    {
     "name": "stdout",
     "output_type": "stream",
     "text": [
      "year=  1 , money=  11800.00 , which<=27000\n",
      "year=  2 , money=  13924.00 , which<=27000\n",
      "year=  3 , money=  16430.32 , which<=27000\n",
      "year=  4 , money=  19387.78 , which<=27000\n",
      "year=  5 , money=  22877.58 , which<=27000\n",
      "year=  6 , money=  26995.54 , which<=27000\n"
     ]
    }
   ],
   "source": [
    "y=1\n",
    "while True:\n",
    "    m=deposit(10000,18,y)\n",
    "    if m>27000:\n",
    "        break\n",
    "    print \"year=%3d , money=%10.2f , which<=27000\"%(y,m)\n",
    "    y+=1"
   ]
  },
  {
   "cell_type": "markdown",
   "metadata": {},
   "source": [
    "---"
   ]
  },
  {
   "cell_type": "markdown",
   "metadata": {},
   "source": [
    "# 迴圈for\n",
    "如果想要更簡潔輸出1,2,3,4,5,6年後得到的存款："
   ]
  },
  {
   "cell_type": "code",
   "execution_count": 37,
   "metadata": {},
   "outputs": [
    {
     "name": "stdout",
     "output_type": "stream",
     "text": [
      "year=  1 , money=  11800.00\n",
      "year=  2 , money=  13924.00\n",
      "year=  3 , money=  16430.32\n",
      "year=  4 , money=  19387.78\n",
      "year=  5 , money=  22877.58\n",
      "year=  6 , money=  26995.54\n"
     ]
    }
   ],
   "source": [
    "for y in range(1,7):\n",
    "    m=deposit(10000,18,y)\n",
    "    print \"year=%3d , money=%10.2f\"%(y,m)"
   ]
  },
  {
   "cell_type": "markdown",
   "metadata": {},
   "source": [
    "> range(a,b)會產生一個起始a,結尾b-1的列表(list)\n",
    "\n",
    "---"
   ]
  },
  {
   "cell_type": "markdown",
   "metadata": {},
   "source": [
    "如果想輸出年數1,2,3,5,10,15,20，for迴圈可以自行指定迭代的內容：(改寫Basis1的Example3)"
   ]
  },
  {
   "cell_type": "code",
   "execution_count": 54,
   "metadata": {},
   "outputs": [
    {
     "name": "stdout",
     "output_type": "stream",
     "text": [
      "save   1 year(s) -> got money         11800.00\n",
      "save   2 year(s) -> got money         13924.00\n",
      "save   3 year(s) -> got money         16430.32\n",
      "save   5 year(s) -> got money         22877.58\n",
      "save  10 year(s) -> got money         52338.36\n",
      "save  15 year(s) -> got money        119737.48\n",
      "save  20 year(s) -> got money        273930.35\n"
     ]
    }
   ],
   "source": [
    "def report(principal=10000,rate=18,year=1):\n",
    "    print \"save %3d year(s) -> got money %16.2f\"%(year,deposit(principal,rate,year))\n",
    "\n",
    "for y in [1,2,3,5,10,15,20]:\n",
    "    report(year=y)"
   ]
  },
  {
   "cell_type": "markdown",
   "metadata": {},
   "source": [
    "\n",
    "---\n"
   ]
  },
  {
   "cell_type": "markdown",
   "metadata": {},
   "source": [
    "# 列表list\n",
    "前面學過的資料型態有：**字串**、**浮點數**、**整數**這三種\n",
    "\n",
    "**列表**可以包含數個有序元素，是Python中很方便的一種資料型態"
   ]
  },
  {
   "cell_type": "code",
   "execution_count": 52,
   "metadata": {},
   "outputs": [
    {
     "name": "stdout",
     "output_type": "stream",
     "text": [
      "myList : [1, 2, 3, 5, 10, 15, 20]\n",
      "Element : 1\n",
      "Element : 2\n",
      "Element : 3\n",
      "Element : 5\n",
      "Element : 10\n",
      "Element : 15\n",
      "Element : 20\n",
      "myList[0]=1\n",
      "myList[1]=2\n",
      "myList[2]=3\n",
      "myList[3]=5\n",
      "myList[4]=10\n",
      "myList[5]=15\n",
      "myList[6]=20\n"
     ]
    }
   ],
   "source": [
    "myList = [1,2,3,5,10,15,20]\n",
    "\n",
    "print \"myList :\",myList\n",
    "#the same:\n",
    "#print \"myList : %s\"%myList\n",
    "\n",
    "for x in myList:\n",
    "    print \"Element : %d\"%x\n",
    "\n",
    "for i,j in enumerate(myList):\n",
    "    print \"myList[%d]=%d\"%(i,j)"
   ]
  },
  {
   "cell_type": "markdown",
   "metadata": {},
   "source": [
    "---"
   ]
  },
  {
   "cell_type": "markdown",
   "metadata": {},
   "source": [
    "如果想把[1,2,3,5,10,15,20]年後的存款值也做成列表，Python中有很方便產出列表的語法："
   ]
  },
  {
   "cell_type": "code",
   "execution_count": 56,
   "metadata": {},
   "outputs": [
    {
     "name": "stdout",
     "output_type": "stream",
     "text": [
      "Element : 11800.00\n",
      "Element : 13924.00\n",
      "Element : 16430.32\n",
      "Element : 22877.58\n",
      "Element : 52338.36\n",
      "Element : 119737.48\n",
      "Element : 273930.35\n"
     ]
    }
   ],
   "source": [
    "myList2 = [deposit(10000,18,y) for y in myList]\n",
    "for m in myList2:\n",
    "    print \"Element : %.2f\"%m"
   ]
  },
  {
   "cell_type": "markdown",
   "metadata": {},
   "source": [
    "---"
   ]
  },
  {
   "cell_type": "markdown",
   "metadata": {},
   "source": [
    "# 進階：運用matplotlib套件畫出折線圖\n",
    "\n",
    "列表可以和for迴圈配合，也可以作為matplotlib作圖的內容："
   ]
  },
  {
   "cell_type": "code",
   "execution_count": 57,
   "metadata": {},
   "outputs": [
    {
     "data": {
      "image/png": "[encoded data removed]",
      "text/plain": [
       "<matplotlib.figure.Figure at 0x115526d90>"
      ]
     },
     "metadata": {},
     "output_type": "display_data"
    }
   ],
   "source": [
    "from matplotlib.pyplot import plot,show\n",
    "plot([deposit(10000,18,y) for y in range(1,11)])\n",
    "show()"
   ]
  },
  {
   "cell_type": "markdown",
   "metadata": {},
   "source": [
    "> 為了使用套件中的plot函數(產生圖形)、show函數(顯示出畫圖的內容)，我們使用from...import\n",
    "\n",
    "> 其中pyplot是matplotlib套件中的一個子模組\n",
    "\n",
    "---"
   ]
  },
  {
   "cell_type": "markdown",
   "metadata": {},
   "source": [
    "想比較不同利率下存款的增長速度，也可以簡單呼叫多次plot、再加上legend："
   ]
  },
  {
   "cell_type": "code",
   "execution_count": 58,
   "metadata": {},
   "outputs": [
    {
     "data": {
      "image/png": "[encoded data removed]",
      "text/plain": [
       "<matplotlib.figure.Figure at 0x118a1f050>"
      ]
     },
     "metadata": {},
     "output_type": "display_data"
    }
   ],
   "source": [
    "from matplotlib.pyplot import plot,show,legend\n",
    "plot([deposit(10000,3,y) for y in range(1,11)])\n",
    "plot([deposit(10000,9,y) for y in range(1,11)])\n",
    "plot([deposit(10000,18,y) for y in range(1,11)])\n",
    "legend([\"3%\",\"9%\",\"18%\"])\n",
    "show()\n"
   ]
  },
  {
   "cell_type": "markdown",
   "metadata": {},
   "source": [
    "---"
   ]
  },
  {
   "cell_type": "code",
   "execution_count": null,
   "metadata": {
    "collapsed": true
   },
   "outputs": [],
   "source": []
  },
  {
   "cell_type": "markdown",
   "metadata": {},
   "source": [
    "---\n",
    "\n",
    "# 參考資料\n",
    "[简明Python教程(第9章 数据结构)](http://www.kuqin.com/abyteofpython_cn/ch09.html)"
   ]
  },
  {
   "cell_type": "code",
   "execution_count": null,
   "metadata": {
    "collapsed": true
   },
   "outputs": [],
   "source": []
  }
 ],
 "metadata": {
  "kernelspec": {
   "display_name": "Python 2",
   "language": "python",
   "name": "python2"
  },
  "language_info": {
   "codemirror_mode": {
    "name": "ipython",
    "version": 2
   },
   "file_extension": ".py",
   "mimetype": "text/x-python",
   "name": "python",
   "nbconvert_exporter": "python",
   "pygments_lexer": "ipython2",
   "version": "2.7.13"
  }
 },
 "nbformat": 4,
 "nbformat_minor": 2
}
