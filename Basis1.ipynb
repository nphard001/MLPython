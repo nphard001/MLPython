{
 "cells": [
  {
   "cell_type": "markdown",
   "metadata": {},
   "source": [
    "<!--\n",
    "# 語法篇架構\n",
    "篇名 | 主要內容 | 補充內容\n",
    "-|-|-\n",
    "Basis1 | 四則運算、if、函式定義 | 函式預設值、print格式化字串、畫表格\n",
    "Basis2 | 列表、for、while     | 畫折線圖\n",
    "Basis3 | import、內建函式     | 輸出文字檔\n",
    "\n",
    "---\n",
    "\n",
    "-->\n",
    "\n",
    "\n",
    "# 基礎運算：複利的力量\n",
    "> ### 讓我們從一個理財問題出發：  \n",
    "> 退休公務員享有18%優存利率。假如現在存入本金10000，以年計息滾入本金，4年後可以收回多少錢？  \n",
    "\n",
    "根據72法則知道答案差不多是20000元  \n",
    "$(1+18\\%)^4 * 10000$  \n",
    "現在我們要利用Python實作這條數學公式  \n"
   ]
  },
  {
   "cell_type": "code",
   "execution_count": 1,
   "metadata": {},
   "outputs": [
    {
     "name": "stdout",
     "output_type": "stream",
     "text": [
      "19387.7776\n"
     ]
    }
   ],
   "source": [
    "#-- Example 1 --#\n",
    "principal = 10000\n",
    "rate      = 18\n",
    "year      = 4\n",
    "\n",
    "grossRate = (100+rate)/100.0\n",
    "money     = grossRate ** year * principal\n",
    "print money"
   ]
  },
  {
   "cell_type": "markdown",
   "metadata": {
    "collapsed": true
   },
   "source": [
    "+ 等號=在絕大多數程式語言裡代表賦值(assignment)，將右邊的內容指定給左側變數(variable)\n",
    "+ 井字號#之後該行的內容不會被程式執行，是給人看的註解\n",
    "+ Python有運算子優先級，乘冪>乘除取餘>加減，需要被優先運算的部分加圓括弧()\n",
    "+ Python的基礎運算  \n",
    "\n",
    "運算子 | 名稱 | 說明 | 例子\n",
    "-|-|-|-\n",
    "\\+|加| 數字相加<br>字串連接 | <code>1+1=2<br>\"app\"+\"le\"=\"apple\"</code>\n",
    "\\-|減| 數字相減或取負| <code>100-8=92</code>\n",
    "\\*|乘| 數字相乘<br>字串重複若干次 | <code>8 \\* 8 = 64<br>\"la\" \\* 3 = \"lalala\"</code>\n",
    "/|除| (如果都是整數)<br>則只取整除部分 | <code>10 / 4 = 2<br>10 / 4.0 = 2.5<br>10.0 / 4 = 2.5 </code>\n",
    "//|整除| 相除取整數部分 | <code>10 // 4 = 2<br>4 // 1.3 = 3.0<br>2.7 // 1 = 2.0</code>\n",
    "%|取餘| 相除取餘數部分 | <code>5 % 2 = 1<br>2.7 % 1 = 0.7</code>\n",
    "\\*\\*|乘冪| 計算a的b次方<br>可以是小數或負數次 | <code>1.1 \\*\\* 2 = 1.21<br>10 \\*\\* -2 = 0.01<br>2 \\*\\* 0.5 = 1.414</code>\n",
    "\n",
    "> 在Python3中，除法/一律代表完整的小數除法 <code>10/4=2.5</code>  \n",
    "> \n",
    "> Python2可以加入：\n",
    "\n",
    ">     from __future__ import division\n",
    "\n",
    "> 來聲明使用這個特性\n",
    "\n",
    "<!--\n",
    "+\t加\t两个对象相加\t3 + 5得到8。'a' + 'b'得到'ab'。\n",
    "-\t减\t得到负数或是一个数减去另一个数\t-5.2得到一个负数。50 - 24得到26。\n",
    "*\t乘\t两个数相乘或是返回一个被重复若干次的字符串\t2 * 3得到6。'la' * 3得到'lalala'。\n",
    "**\t幂\t\n",
    "返回x的y次幂\n",
    "\n",
    "3 ** 4得到81（即3 * 3 * 3 * 3）\n",
    "/\t除\tx除以y\t4/3得到1（整数的除法得到整数结果）。4.0/3或4/3.0得到1.3333333333333333\n",
    "//\t取整除\t返回商的整数部分\t4 // 3.0得到1.0\n",
    "%\t取模\t返回除法的余数\t8%3得到2。-25.5%2.25得到1.5\n",
    "-->"
   ]
  },
  {
   "cell_type": "markdown",
   "metadata": {},
   "source": [
    "---\n",
    "\n",
    "# 函式定義<code>def</code>\n",
    "承上例，存入的本金10000元在年利率18%底下，4年後本利和19387元  \n",
    "如果想計算1年後、2年後、3年後...甚至20年以後，豈不是要把這段程式碼複製n遍嗎？  \n",
    "好在我們可以利用函式來改寫example1，達到程式碼重複利用的功能"
   ]
  },
  {
   "cell_type": "code",
   "execution_count": 2,
   "metadata": {},
   "outputs": [
    {
     "name": "stdout",
     "output_type": "stream",
     "text": [
      "11800.0\n",
      "13924.0\n",
      "16430.32\n",
      "19387.7776\n"
     ]
    }
   ],
   "source": [
    "#-- Example 2 --#\n",
    "def deposit(principal,rate,year):             # deposit function\n",
    "    grossRate = (100+rate)/100.0              # deposit function\n",
    "    money     = grossRate ** year * principal # deposit function\n",
    "    return money                              # deposit function\n",
    "\n",
    "print deposit(10000,18,1)\n",
    "print deposit(10000,18,2)\n",
    "print deposit(10000,18,3)\n",
    "print deposit(10000,18,4)"
   ]
  },
  {
   "cell_type": "markdown",
   "metadata": {},
   "source": [
    "\n",
    "+ 用法  \n",
    "<code>def 函式名稱(參數1,參數2,...):\n",
    "    指令1\n",
    "    指令2\n",
    "    指令3\n",
    "    ...\n",
    "    return 結果\n",
    "    </code>\n",
    "\n",
    "+ Python程式碼用縮排(4個空格)來表達區塊，從冒號的部分開始形成的區塊(block)描述函式的內容  \n",
    "  def下一行開始凡有縮排的指令，都是從屬deposit的一部分，直到遇到沒縮排(和自己同級)的指令\n",
    "+ 函式區塊內的變數(principal,rate,year,grossRate,money)都是區域變數，執行結束就會銷毀  \n",
    "  區塊之外沒辦法存取區塊之內的變數，要靠傳遞參數(arguments)、接收回傳值(return)向函式溝通"
   ]
  },
  {
   "cell_type": "markdown",
   "metadata": {},
   "source": [
    "---\n",
    "\n",
    "# 製作複利表格(使用格式化字串)\n",
    "example2秀出了存款1~4年後的本利和\n",
    "\n",
    "如果我們想要在同一行裡面把年份也print出來，可以用逗號把多個元件隔開："
   ]
  },
  {
   "cell_type": "code",
   "execution_count": 3,
   "metadata": {},
   "outputs": [
    {
     "name": "stdout",
     "output_type": "stream",
     "text": [
      "save 1 year will get 11800.0\n",
      "save 2 year will get 13924.0\n",
      "save 3 year will get 16430.32\n",
      "save 5 year will get 22877.577568\n",
      "save 10 year will get 52338.355538\n"
     ]
    }
   ],
   "source": [
    "print \"save\",1,\"year will get\",deposit(10000,18,1)\n",
    "print \"save\",2,\"year will get\",deposit(10000,18,2)\n",
    "print \"save\",3,\"year will get\",deposit(10000,18,3)\n",
    "print \"save\",5,\"year will get\",deposit(10000,18,5)\n",
    "print \"save\",10,\"year will get\",deposit(10000,18,10)"
   ]
  },
  {
   "cell_type": "markdown",
   "metadata": {},
   "source": [
    "可惜的是數字位數不同的時候，就會看起來歪歪的\n",
    "\n",
    "\n",
    "如果我們希望這些數字元件能乖乖排好，就要善用格式化字串："
   ]
  },
  {
   "cell_type": "code",
   "execution_count": 4,
   "metadata": {},
   "outputs": [
    {
     "name": "stdout",
     "output_type": "stream",
     "text": [
      "  1 got 11800.00\n",
      "  2 got 13924.00\n",
      "  3 got 16430.32\n",
      "  5 got 22877.58\n",
      " 10 got 52338.36\n"
     ]
    }
   ],
   "source": [
    "print \"%3d got %8.2f\"%(1,deposit(10000,18,1))\n",
    "print \"%3d got %8.2f\"%(2,deposit(10000,18,2))\n",
    "print \"%3d got %8.2f\"%(3,deposit(10000,18,3))\n",
    "print \"%3d got %8.2f\"%(5,deposit(10000,18,5))\n",
    "print \"%3d got %8.2f\"%(10,deposit(10000,18,10))"
   ]
  },
  {
   "cell_type": "markdown",
   "metadata": {},
   "source": [
    "+ 字串中被%開頭標記的就是可變的部分，標記了兩個%、尾隨的圓括弧內就要依序列出兩個變數值\n",
    "+ %d表示整數、%f表示浮點數\n",
    "+ %3d表示這個整數輸出要佔3格寬\n",
    "+ %.2f表示這個浮點數要輸出2位小數，多的四捨五入，少的補0\n",
    "+ 以此類推%8.2f就是佔8格寬、2位小數\n",
    "+ 如果數字太長寬度太少還是會歪掉XD\n",
    "\n",
    "---"
   ]
  },
  {
   "cell_type": "code",
   "execution_count": 5,
   "metadata": {},
   "outputs": [
    {
     "name": "stdout",
     "output_type": "stream",
     "text": [
      "save   1 year(s) -> got money         11800.00\n",
      "save   2 year(s) -> got money         13924.00\n",
      "save   3 year(s) -> got money         16430.32\n",
      "save   4 year(s) -> got money         19387.78\n",
      "save   5 year(s) -> got money         22877.58\n",
      "save  10 year(s) -> got money         52338.36\n",
      "save  15 year(s) -> got money        119737.48\n",
      "save  20 year(s) -> got money        273930.35\n",
      "save  30 year(s) -> got money       1433706.38\n",
      "save  50 year(s) -> got money      39273568.60\n",
      "save 100 year(s) -> got money  154241319054.53\n"
     ]
    }
   ],
   "source": [
    "#-- Example 3 --#\n",
    "def report(principal=10000,rate=18,year=1):\n",
    "    print \"save %3d year(s) -> got money %16.2f\"%(year,deposit(principal,rate,year))\n",
    "\n",
    "report(year=1)\n",
    "report(year=2)\n",
    "report(year=3)\n",
    "report(year=4)\n",
    "report(year=5)\n",
    "report(year=10)\n",
    "report(year=15)\n",
    "report(year=20)\n",
    "report(year=30)\n",
    "report(year=50)\n",
    "report(year=100)"
   ]
  },
  {
   "cell_type": "markdown",
   "metadata": {},
   "source": [
    "+ 我們另外定義了report函式，參數和deposit完全相同，目的是輸出deposit的運算結果\n",
    "+ Python允許給參數預設值，這樣就可以省略本金10000和利率18這兩個完全相同的部分，針對年數year給值\n",
    "+ 沒有預設值的參數必須擺在有預設值的參數前面\n",
    "> 函式與函數英文都是function，中文世界裡有一說函數是指「回傳單一數值」的函式(想想數學課本對函數的定義)  \n",
    "> 函式則未必要有回傳值，可以是作為副程式的存在，就好比此例中的report"
   ]
  },
  {
   "cell_type": "markdown",
   "metadata": {},
   "source": [
    "# 進階：輸出成markdown表格\n",
    "首先，我們可以通過Anaconda內建的IPython套件讓程式輸出markdown語法：(三個引號表示多行字串)"
   ]
  },
  {
   "cell_type": "code",
   "execution_count": 6,
   "metadata": {},
   "outputs": [
    {
     "data": {
      "text/markdown": [
       "知乎上有網友認為，成功包含三大要素：\n",
       "7. 顏值\n",
       "8. 智商\n",
       "9. 家世"
      ],
      "text/plain": [
       "<IPython.core.display.Markdown object>"
      ]
     },
     "metadata": {},
     "output_type": "display_data"
    }
   ],
   "source": [
    "from IPython.display import display, Markdown\n",
    "def show(mdString):\n",
    "    display(Markdown(mdString))\n",
    "\n",
    "show(\"\"\"知乎上有網友認為，成功包含三大要素：\n",
    "7. 顏值\n",
    "8. 智商\n",
    "9. 家世\"\"\")"
   ]
  },
  {
   "cell_type": "markdown",
   "metadata": {},
   "source": [
    "markdown中有序清單上的數字不影響顯示，會自動轉成1,2,3\n",
    "\n",
    "> 我們用show(mdString)對套件的內容(通常是別人的code)做了重新包裝  \n",
    "> 此時show就是原本寫法的一個\"wrapper\"\n",
    "\n",
    "如果要排表格的話也很簡單，只要像這樣："
   ]
  },
  {
   "cell_type": "code",
   "execution_count": 7,
   "metadata": {},
   "outputs": [
    {
     "data": {
      "text/markdown": [
       "\n",
       "fruit|color\n",
       "-|-\n",
       "apple|red\n",
       "banana|yellow\n",
       "cherry|black\n"
      ],
      "text/plain": [
       "<IPython.core.display.Markdown object>"
      ]
     },
     "metadata": {},
     "output_type": "display_data"
    }
   ],
   "source": [
    "show(\"\"\"\n",
    "fruit|color\n",
    "-|-\n",
    "apple|red\n",
    "banana|yellow\n",
    "cherry|black\n",
    "\"\"\")"
   ]
  },
  {
   "cell_type": "markdown",
   "metadata": {},
   "source": [
    "有了這些預備知識，只要把不同年份本利和的格式化字串，通通案markdown的規定串在一起在show就可以了！"
   ]
  },
  {
   "cell_type": "code",
   "execution_count": 8,
   "metadata": {},
   "outputs": [
    {
     "name": "stdout",
     "output_type": "stream",
     "text": [
      "Year | Money \n",
      " -|-\n",
      "1|11800.00\n",
      "2|13924.00\n",
      "3|16430.32\n",
      "4|19387.78\n",
      "5|22877.58\n",
      "10|52338.36\n",
      "15|119737.48\n",
      "20|273930.35\n",
      "30|1433706.38\n",
      "50|39273568.60\n",
      "100|154241319054.53\n"
     ]
    },
    {
     "data": {
      "text/markdown": [
       "Year | Money \n",
       " -|-\n",
       "1|11800.00\n",
       "2|13924.00\n",
       "3|16430.32\n",
       "4|19387.78\n",
       "5|22877.58\n",
       "10|52338.36\n",
       "15|119737.48\n",
       "20|273930.35\n",
       "30|1433706.38\n",
       "50|39273568.60\n",
       "100|154241319054.53"
      ],
      "text/plain": [
       "<IPython.core.display.Markdown object>"
      ]
     },
     "metadata": {},
     "output_type": "display_data"
    }
   ],
   "source": [
    "#-- Extra 1 --#\n",
    "outputString = \"Year | Money \\n -|-\"\n",
    "def add(year):\n",
    "    global outputString\n",
    "    outputString += \"\\n\"+\"%d|%.2f\"%(year,deposit(10000,18,year))\n",
    "add(1)\n",
    "add(2)\n",
    "add(3)\n",
    "add(4)\n",
    "add(5)\n",
    "add(10)\n",
    "add(15)\n",
    "add(20)\n",
    "add(30)\n",
    "add(50)\n",
    "add(100)\n",
    "\n",
    "print outputString\n",
    "show(outputString)"
   ]
  },
  {
   "cell_type": "markdown",
   "metadata": {},
   "source": [
    "---\n",
    "\n",
    "# 參考資料\n",
    "+ [简明Python教程(第5章 运算符与表达式)](http://www.kuqin.com/abyteofpython_cn/ch05s02.html)\n",
    "\n",
    "+ [Python2官方教程(4) - More Control Flow Tools](https://docs.python.org/2/tutorial/controlflow.html)"
   ]
  }
 ],
 "metadata": {
  "kernelspec": {
   "display_name": "Python 2",
   "language": "python",
   "name": "python2"
  },
  "language_info": {
   "codemirror_mode": {
    "name": "ipython",
    "version": 2
   },
   "file_extension": ".py",
   "mimetype": "text/x-python",
   "name": "python",
   "nbconvert_exporter": "python",
   "pygments_lexer": "ipython2",
   "version": "2.7.13"
  }
 },
 "nbformat": 4,
 "nbformat_minor": 2
}
