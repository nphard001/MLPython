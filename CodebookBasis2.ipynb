{
 "cells": [
  {
   "cell_type": "markdown",
   "metadata": {},
   "source": [
    "# Codebook\n",
    "\n",
    "1. 條件判斷if 、 邏輯運算\n",
    "\n",
    "2. 迴圈while\n",
    "\n",
    "3. 迴圈for\n",
    "\n",
    "4. 列表list"
   ]
  },
  {
   "cell_type": "code",
   "execution_count": 11,
   "metadata": {},
   "outputs": [
    {
     "name": "stdout",
     "output_type": "stream",
     "text": [
      "#-- a= 1 ,b= 1.0 --#\n",
      "a==b : True\n",
      "a!=b : False\n",
      "a<b  : False\n",
      "a<=b : True\n",
      "a>b  : False\n",
      "a>=b : True\n",
      "#-- a= 9 ,b= 81 --#\n",
      "a==b : False\n",
      "a!=b : True\n",
      "a<b  : True\n",
      "a<=b : True\n",
      "a>b  : False\n",
      "a>=b : False\n",
      "#-- a= short ,b= longString --#\n",
      "a==b : False\n",
      "a!=b : True\n",
      "a<b  : False\n",
      "a<=b : False\n",
      "a>b  : True\n",
      "a>=b : True\n",
      "#-- a= False ,b= True --#\n",
      "a==b : False\n",
      "a!=b : True\n",
      "a<b  : True\n",
      "a<=b : True\n",
      "a>b  : False\n",
      "a>=b : False\n"
     ]
    }
   ],
   "source": [
    "def relationCheck(a,b):\n",
    "    print \"#-- a=\",a,\",b=\",b,\"--#\"\n",
    "    print \"a==b :\",a==b\n",
    "    print \"a!=b :\",a!=b\n",
    "    print \"a<b  :\",a<b\n",
    "    print \"a<=b :\",a<=b\n",
    "    print \"a>b  :\",a>b\n",
    "    print \"a>=b :\",a>=b\n",
    "relationCheck(1,1.00000)\n",
    "relationCheck(9,81)\n",
    "relationCheck(\"short\",\"longString\")\n",
    "relationCheck(False,True)"
   ]
  },
  {
   "cell_type": "code",
   "execution_count": 19,
   "metadata": {},
   "outputs": [
    {
     "name": "stdout",
     "output_type": "stream",
     "text": [
      "#-- x= True ,y= True ,z= False --#\n",
      "all true? False\n",
      "any true? True\n",
      "all true but z? True\n"
     ]
    }
   ],
   "source": [
    "def logicCheck(x,y,z):\n",
    "    print \"#-- x=\",x,\",y=\",y,\",z=\",z,\"--#\"\n",
    "    print \"all true?\",x and y and z\n",
    "    print \"any true?\",x or y or z\n",
    "    print \"all true but z?\",x and y and not z\n",
    "    print \"?\",x and y and not z\n",
    "logicCheck(True,True,False)"
   ]
  },
  {
   "cell_type": "code",
   "execution_count": null,
   "metadata": {
    "collapsed": true
   },
   "outputs": [],
   "source": []
  },
  {
   "cell_type": "code",
   "execution_count": null,
   "metadata": {
    "collapsed": true
   },
   "outputs": [],
   "source": []
  },
  {
   "cell_type": "code",
   "execution_count": null,
   "metadata": {
    "collapsed": true
   },
   "outputs": [],
   "source": []
  }
 ],
 "metadata": {
  "kernelspec": {
   "display_name": "Python 2",
   "language": "python",
   "name": "python2"
  },
  "language_info": {
   "codemirror_mode": {
    "name": "ipython",
    "version": 2
   },
   "file_extension": ".py",
   "mimetype": "text/x-python",
   "name": "python",
   "nbconvert_exporter": "python",
   "pygments_lexer": "ipython2",
   "version": "2.7.13"
  }
 },
 "nbformat": 4,
 "nbformat_minor": 2
}
