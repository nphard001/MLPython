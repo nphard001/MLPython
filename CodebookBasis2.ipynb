{
 "cells": [
  {
   "cell_type": "markdown",
   "metadata": {},
   "source": [
    "# Codebook\n",
    "\n",
    "1. 條件判斷if 、 邏輯運算\n",
    "\n",
    "2. 迴圈while\n",
    "\n",
    "3. 迴圈for\n",
    "\n",
    "4. 列表list"
   ]
  },
  {
   "cell_type": "code",
   "execution_count": 11,
   "metadata": {},
   "outputs": [
    {
     "name": "stdout",
     "output_type": "stream",
     "text": [
      "#-- a= 1 ,b= 1.0 --#\n",
      "a==b : True\n",
      "a!=b : False\n",
      "a<b  : False\n",
      "a<=b : True\n",
      "a>b  : False\n",
      "a>=b : True\n",
      "#-- a= 9 ,b= 81 --#\n",
      "a==b : False\n",
      "a!=b : True\n",
      "a<b  : True\n",
      "a<=b : True\n",
      "a>b  : False\n",
      "a>=b : False\n",
      "#-- a= short ,b= longString --#\n",
      "a==b : False\n",
      "a!=b : True\n",
      "a<b  : False\n",
      "a<=b : False\n",
      "a>b  : True\n",
      "a>=b : True\n",
      "#-- a= False ,b= True --#\n",
      "a==b : False\n",
      "a!=b : True\n",
      "a<b  : True\n",
      "a<=b : True\n",
      "a>b  : False\n",
      "a>=b : False\n"
     ]
    }
   ],
   "source": [
    "def relationCheck(a,b):\n",
    "    print \"#-- a=\",a,\",b=\",b,\"--#\"\n",
    "    print \"a==b :\",a==b\n",
    "    print \"a!=b :\",a!=b\n",
    "    print \"a<b  :\",a<b\n",
    "    print \"a<=b :\",a<=b\n",
    "    print \"a>b  :\",a>b\n",
    "    print \"a>=b :\",a>=b\n",
    "relationCheck(1,1.00000)\n",
    "relationCheck(9,81)\n",
    "relationCheck(\"short\",\"longString\")\n",
    "relationCheck(False,True)"
   ]
  },
  {
   "cell_type": "code",
   "execution_count": 21,
   "metadata": {},
   "outputs": [
    {
     "name": "stdout",
     "output_type": "stream",
     "text": [
      "#-- x= True ,y= True ,z= True --#\n",
      "all true? True\n",
      "any true? True\n",
      "all true but z? False\n",
      "have x or have both y,z? True\n",
      "#-- x= True ,y= True ,z= False --#\n",
      "all true? False\n",
      "any true? True\n",
      "all true but z? True\n",
      "have x or have both y,z? True\n",
      "#-- x= True ,y= False ,z= False --#\n",
      "all true? False\n",
      "any true? True\n",
      "all true but z? False\n",
      "have x or have both y,z? True\n",
      "#-- x= False ,y= False ,z= False --#\n",
      "all true? False\n",
      "any true? False\n",
      "all true but z? False\n",
      "have x or have both y,z? False\n"
     ]
    }
   ],
   "source": [
    "def logicCheck(x,y,z):\n",
    "    print \"#-- x=\",x,\",y=\",y,\",z=\",z,\"--#\"\n",
    "    print \"all true?\",x and y and z\n",
    "    print \"any true?\",x or y or z\n",
    "    print \"all true but z?\",x and y and not z\n",
    "    print \"have x or have both y,z?\",x or y and z\n",
    "    #Precedence : not > and > or\n",
    "logicCheck(True,True,True)\n",
    "logicCheck(True,True,False)\n",
    "logicCheck(True,False,False)\n",
    "logicCheck(False,False,False)"
   ]
  },
  {
   "cell_type": "code",
   "execution_count": 24,
   "metadata": {},
   "outputs": [
    {
     "name": "stdout",
     "output_type": "stream",
     "text": [
      "10 is an integer\n",
      "100.0 is an integer\n"
     ]
    }
   ],
   "source": [
    "def numCheck(n):\n",
    "    if n%1==0:\n",
    "        print n,\"is an integer\"\n",
    "numCheck(10)\n",
    "numCheck(100.0)"
   ]
  },
  {
   "cell_type": "code",
   "execution_count": 26,
   "metadata": {},
   "outputs": [
    {
     "name": "stdout",
     "output_type": "stream",
     "text": [
      "-0.1 is NOT in the range of [0,100]\n",
      "0.0 is in the range of [0,100]\n",
      "50 is in the range of [0,100]\n",
      "100 is in the range of [0,100]\n",
      "100.001 is NOT in the range of [0,100]\n"
     ]
    }
   ],
   "source": [
    "def numCheck2(n):\n",
    "    if 0<=n<=100:\n",
    "        print n,\"is in the range of [0,100]\"\n",
    "    else:\n",
    "        print n,\"is NOT in the range of [0,100]\"\n",
    "numCheck2(-0.1)\n",
    "numCheck2(0.0)\n",
    "numCheck2(50)\n",
    "numCheck2(100)\n",
    "numCheck2(100.001)"
   ]
  },
  {
   "cell_type": "code",
   "execution_count": 28,
   "metadata": {},
   "outputs": [
    {
     "name": "stdout",
     "output_type": "stream",
     "text": [
      "1.0 is a square number. sqrt= 1.0\n",
      "1.414 is not an integer\n",
      "2 is not a square number. sqrt= 1.414\n",
      "3 is not a square number. sqrt= 1.732\n",
      "4 is a square number. sqrt= 2.0\n",
      "9 is a square number. sqrt= 3.0\n"
     ]
    }
   ],
   "source": [
    "def numCheck3(n):\n",
    "    if n%1>0:\n",
    "        print n,\"is not an integer\"\n",
    "    elif n**.5%1==0:\n",
    "        print n,\"is a square number. sqrt=\",n**.5\n",
    "    else:\n",
    "        print n,\"is not a square number. sqrt=\",round(n**.5,3)\n",
    "numCheck3(1.0)\n",
    "numCheck3(1.414)\n",
    "numCheck3(2)\n",
    "numCheck3(3)\n",
    "numCheck3(4)\n",
    "numCheck3(9)"
   ]
  },
  {
   "cell_type": "code",
   "execution_count": 29,
   "metadata": {},
   "outputs": [
    {
     "name": "stdout",
     "output_type": "stream",
     "text": [
      "19387.7776\n"
     ]
    }
   ],
   "source": [
    "def deposit2(year,rate=18,principal=10000):\n",
    "    return ((100.0+rate)/100)**year * principal\n",
    "print deposit2(4)"
   ]
  },
  {
   "cell_type": "code",
   "execution_count": 34,
   "metadata": {},
   "outputs": [
    {
     "name": "stdout",
     "output_type": "stream",
     "text": [
      "year=  1 , money=  11800.00\n",
      "year=  2 , money=  13924.00\n",
      "year=  3 , money=  16430.32\n",
      "year=  4 , money=  19387.78\n",
      "year=  5 , money=  22877.58\n",
      "year=  6 , money=  26995.54\n",
      "year=  7 , money=  31854.74\n",
      "year=  8 , money=  37588.59\n",
      "year=  9 , money=  44354.54\n",
      "year= 10 , money=  52338.36\n",
      "year= 11 , money=  61759.26\n",
      "year= 12 , money=  72875.93\n",
      "year= 13 , money=  85993.59\n",
      "year= 14 , money= 101472.44\n",
      "year= 15 , money= 119737.48\n",
      "year= 16 , money= 141290.23\n",
      "year= 17 , money= 166722.47\n",
      "year= 18 , money= 196732.51\n",
      "year= 19 , money= 232144.36\n",
      "year= 20 , money= 273930.35\n",
      "year= 21 , money= 323237.81\n",
      "year= 22 , money= 381420.61\n",
      "year= 23 , money= 450076.32\n",
      "year= 24 , money= 531090.06\n",
      "year= 25 , money= 626686.27\n",
      "year= 26 , money= 739489.80\n",
      "year= 27 , money= 872597.97\n"
     ]
    }
   ],
   "source": [
    "x=1\n",
    "while deposit2(x)<=1000000:\n",
    "    y=deposit2(x)\n",
    "    print \"year=%3d , money=%10.2f\"%(x,y)\n",
    "    x+=1"
   ]
  },
  {
   "cell_type": "code",
   "execution_count": 36,
   "metadata": {},
   "outputs": [
    {
     "name": "stdout",
     "output_type": "stream",
     "text": [
      "year= 14 , money= 101472.44 , which >= 100000\n"
     ]
    }
   ],
   "source": [
    "x=1\n",
    "while True:\n",
    "    y=deposit2(x)\n",
    "    if y>=100000:\n",
    "        print \"year=%3d , money=%10.2f , which >= 100000\"%(x,y)\n",
    "        break\n",
    "    x+=1"
   ]
  },
  {
   "cell_type": "code",
   "execution_count": 43,
   "metadata": {},
   "outputs": [
    {
     "name": "stdout",
     "output_type": "stream",
     "text": [
      "year= 14 , money= 101472.44\n",
      "year= 19 , money= 232144.36\n",
      "year= 21 , money= 323237.81\n",
      "year= 23 , money= 450076.32\n",
      "year= 24 , money= 531090.06\n",
      "year= 25 , money= 626686.27\n",
      "year= 26 , money= 739489.80\n",
      "year= 27 , money= 872597.97\n",
      "year= 28 , money=1029665.60\n",
      "year= 29 , money=1215005.41\n"
     ]
    }
   ],
   "source": [
    "#WIP\n",
    "x=0\n",
    "lastShow=0\n",
    "while lastShow<=1000000:\n",
    "    x+=1\n",
    "    y=deposit2(x)\n",
    "    if y>=lastShow:\n",
    "        print \"year=%3d , money=%10.2f\"%(x,y)\n",
    "        lastShow+=100000"
   ]
  },
  {
   "cell_type": "code",
   "execution_count": 42,
   "metadata": {},
   "outputs": [
    {
     "name": "stdout",
     "output_type": "stream",
     "text": [
      "year= 15 , money= 119737.48\n",
      "year= 20 , money= 273930.35\n",
      "year= 25 , money= 626686.27\n",
      "year= 30 , money=1433706.38\n",
      "year= 35 , money=3279972.90\n",
      "year= 40 , money=7503783.45\n",
      "year= 45 , money=17166838.79\n",
      "year= 50 , money=39273568.60\n",
      "year= 55 , money=89848411.20\n",
      "year= 60 , money=205551399.66\n"
     ]
    }
   ],
   "source": [
    "#WIP\n",
    "x=0\n",
    "lastShow=100000\n",
    "while lastShow<=1000000:\n",
    "    x+=1\n",
    "    y=deposit2(x)\n",
    "    if y>=lastShow:\n",
    "        if x%5!=0:\n",
    "            continue\n",
    "        print \"year=%3d , money=%10.2f\"%(x,y)\n",
    "        lastShow+=100000"
   ]
  },
  {
   "cell_type": "code",
   "execution_count": null,
   "metadata": {
    "collapsed": true
   },
   "outputs": [],
   "source": []
  }
 ],
 "metadata": {
  "kernelspec": {
   "display_name": "Python 2",
   "language": "python",
   "name": "python2"
  },
  "language_info": {
   "codemirror_mode": {
    "name": "ipython",
    "version": 2
   },
   "file_extension": ".py",
   "mimetype": "text/x-python",
   "name": "python",
   "nbconvert_exporter": "python",
   "pygments_lexer": "ipython2",
   "version": "2.7.13"
  }
 },
 "nbformat": 4,
 "nbformat_minor": 2
}
