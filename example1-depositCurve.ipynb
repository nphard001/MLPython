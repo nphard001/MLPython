{
 "cells": [
  {
   "cell_type": "code",
   "execution_count": 1,
   "metadata": {},
   "outputs": [
    {
     "name": "stdout",
     "output_type": "stream",
     "text": [
      "19387.7776\n"
     ]
    }
   ],
   "source": [
    "from __future__ import division\n",
    "def deposit(principal=10000,year=4,rate=18):\n",
    "    grossRate = (100+rate)/100\n",
    "    return grossRate ** year * principal\n",
    "\n",
    "#test\n",
    "print deposit()"
   ]
  },
  {
   "cell_type": "markdown",
   "metadata": {},
   "source": [
    "# Code test\n",
    "    from __future__ import division\n",
    "    def deposit(principal=10000,year=4,rate=18):\n",
    "        grossRate = (100+rate)/100\n",
    "        return grossRate ** year * principal\n",
    "\n",
    "from __future__ import division\n",
    "def deposit(principal=10000,year=4,rate=18):\n",
    "    grossRate = (100+rate)/100\n",
    "    return grossRate ** year * principal\n",
    "+ 注意事項A\n",
    "+ 注意B\n",
    "+ 注意C或D"
   ]
  },
  {
   "cell_type": "markdown",
   "metadata": {},
   "source": [
    "# hi function\n",
    "    def hi():\n",
    "        print 'HAHA'\n",
    "\n",
    "    hi()\n",
    "> I think it'squite easy.\n",
    "\n",
    "> haha too."
   ]
  },
  {
   "cell_type": "code",
   "execution_count": null,
   "metadata": {
    "collapsed": true
   },
   "outputs": [],
   "source": []
  },
  {
   "cell_type": "code",
   "execution_count": null,
   "metadata": {
    "collapsed": true
   },
   "outputs": [],
   "source": []
  }
 ],
 "metadata": {
  "kernelspec": {
   "display_name": "Python 2",
   "language": "python",
   "name": "python2"
  },
  "language_info": {
   "codemirror_mode": {
    "name": "ipython",
    "version": 2
   },
   "file_extension": ".py",
   "mimetype": "text/x-python",
   "name": "python",
   "nbconvert_exporter": "python",
   "pygments_lexer": "ipython2",
   "version": "2.7.13"
  }
 },
 "nbformat": 4,
 "nbformat_minor": 2
}
